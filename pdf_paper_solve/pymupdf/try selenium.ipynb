{
 "cells": [
  {
   "cell_type": "code",
   "execution_count": 4,
   "id": "7b29e232",
   "metadata": {},
   "outputs": [
    {
     "name": "stderr",
     "output_type": "stream",
     "text": [
      "<ipython-input-4-2c5462cae680>:2: DeprecationWarning: executable_path has been deprecated, please pass in a Service object\n",
      "  driver = webdriver.Chrome(r\"C:\\\\Users\\\\GIGABYTE\\\\Python_Homework_Save\\\\python homework\\\\專題作業\\\\chromedriver_win32\\\\chromedriver\")\n"
     ]
    }
   ],
   "source": [
    "from selenium import webdriver\n",
    "driver = webdriver.Chrome(r\"C:\\\\Users\\\\GIGABYTE\\\\Python_Homework_Save\\\\python homework\\\\專題作業\\\\chromedriver_win32\\\\chromedriver\")\n",
    "first_url='https://www.facebook.com/'\n",
    "driver.get(first_url)\n",
    "second_url=\"https://translate.google.com.tw/?hl=zh-TW\"\n",
    "driver.get(second_url)\n",
    "driver.back()#後退\n",
    "driver.forward#前進\n",
    "driver.refresh()#重新整理"
   ]
  },
  {
   "cell_type": "code",
   "execution_count": 2,
   "id": "03b53d37",
   "metadata": {},
   "outputs": [
    {
     "name": "stdout",
     "output_type": "stream",
     "text": [
      "1\n"
     ]
    }
   ],
   "source": [
    "str1=\"123\"\n",
    "str2=\"234\"\n",
    "print(str1.strip(str2))#可以更新後用strip剝除"
   ]
  },
  {
   "cell_type": "markdown",
   "id": "83299748",
   "metadata": {},
   "source": [
    "嘗試登入臉書"
   ]
  },
  {
   "cell_type": "code",
   "execution_count": 21,
   "id": "9451889b",
   "metadata": {},
   "outputs": [
    {
     "name": "stderr",
     "output_type": "stream",
     "text": [
      "<ipython-input-21-119b6503c7b9>:14: DeprecationWarning: executable_path has been deprecated, please pass in a Service object\n",
      "  driver = webdriver.Chrome(r\"C:\\\\Users\\\\GIGABYTE\\\\Python_Homework_Save\\\\python homework\\\\專題作業\\\\chromedriver_win32\\\\chromedriver\",options=options)\n",
      "<ipython-input-21-119b6503c7b9>:17: DeprecationWarning: find_element_by_* commands are deprecated. Please use find_element() instead\n",
      "  driver.find_element_by_xpath('//*[@id=\"email\"]').clear()#從路徑輸入輸出\n",
      "<ipython-input-21-119b6503c7b9>:18: DeprecationWarning: find_element_by_* commands are deprecated. Please use find_element() instead\n",
      "  driver.find_element_by_xpath('//*[@id=\"email\"]').send_keys(\"eric60478@gmail.com\")\n",
      "<ipython-input-21-119b6503c7b9>:19: DeprecationWarning: find_element_by_* commands are deprecated. Please use find_element() instead\n",
      "  driver.find_element_by_xpath('//*[@id=\"pass\"]').clear()\n",
      "<ipython-input-21-119b6503c7b9>:20: DeprecationWarning: find_element_by_* commands are deprecated. Please use find_element() instead\n",
      "  driver.find_element_by_xpath('//*[@id=\"pass\"]').send_keys(\"22210375*Math\")\n",
      "<ipython-input-21-119b6503c7b9>:21: DeprecationWarning: find_element_by_* commands are deprecated. Please use find_element() instead\n",
      "  driver.find_element_by_name('login').click()#可以從不同情形切入(登入)//submit或者click 達到依樣效果\n",
      "<ipython-input-21-119b6503c7b9>:22: DeprecationWarning: find_element_by_* commands are deprecated. Please use find_element() instead\n",
      "  print(driver.find_element_by_class_name('a8c37x1j.ni8dbmo4.stjgntxs.l9j0dhe7.ltmttdrg.g0qnabr5').text())\n"
     ]
    },
    {
     "ename": "TypeError",
     "evalue": "'str' object is not callable",
     "output_type": "error",
     "traceback": [
      "\u001b[1;31m---------------------------------------------------------------------------\u001b[0m",
      "\u001b[1;31mTypeError\u001b[0m                                 Traceback (most recent call last)",
      "\u001b[1;32m<ipython-input-21-119b6503c7b9>\u001b[0m in \u001b[0;36m<module>\u001b[1;34m\u001b[0m\n\u001b[0;32m     20\u001b[0m \u001b[0mdriver\u001b[0m\u001b[1;33m.\u001b[0m\u001b[0mfind_element_by_xpath\u001b[0m\u001b[1;33m(\u001b[0m\u001b[1;34m'//*[@id=\"pass\"]'\u001b[0m\u001b[1;33m)\u001b[0m\u001b[1;33m.\u001b[0m\u001b[0msend_keys\u001b[0m\u001b[1;33m(\u001b[0m\u001b[1;34m\"22210375*Math\"\u001b[0m\u001b[1;33m)\u001b[0m\u001b[1;33m\u001b[0m\u001b[1;33m\u001b[0m\u001b[0m\n\u001b[0;32m     21\u001b[0m \u001b[0mdriver\u001b[0m\u001b[1;33m.\u001b[0m\u001b[0mfind_element_by_name\u001b[0m\u001b[1;33m(\u001b[0m\u001b[1;34m'login'\u001b[0m\u001b[1;33m)\u001b[0m\u001b[1;33m.\u001b[0m\u001b[0mclick\u001b[0m\u001b[1;33m(\u001b[0m\u001b[1;33m)\u001b[0m\u001b[1;31m#可以從不同情形切入(登入)//submit或者click 達到依樣效果\u001b[0m\u001b[1;33m\u001b[0m\u001b[1;33m\u001b[0m\u001b[0m\n\u001b[1;32m---> 22\u001b[1;33m \u001b[0mprint\u001b[0m\u001b[1;33m(\u001b[0m\u001b[0mdriver\u001b[0m\u001b[1;33m.\u001b[0m\u001b[0mfind_element_by_class_name\u001b[0m\u001b[1;33m(\u001b[0m\u001b[1;34m'a8c37x1j.ni8dbmo4.stjgntxs.l9j0dhe7.ltmttdrg.g0qnabr5'\u001b[0m\u001b[1;33m)\u001b[0m\u001b[1;33m.\u001b[0m\u001b[0mtext\u001b[0m\u001b[1;33m(\u001b[0m\u001b[1;33m)\u001b[0m\u001b[1;33m)\u001b[0m\u001b[1;33m\u001b[0m\u001b[1;33m\u001b[0m\u001b[0m\n\u001b[0m",
      "\u001b[1;31mTypeError\u001b[0m: 'str' object is not callable"
     ]
    }
   ],
   "source": [
    "from selenium import webdriver\n",
    "import time\n",
    "\n",
    "# 關閉通知\n",
    "options = webdriver.ChromeOptions()\n",
    "prefs = {\n",
    "    'profile.default_content_setting_values':\n",
    "        {\n",
    "            'notifications': 2\n",
    "        }\n",
    "}\n",
    "options.add_experimental_option('prefs', prefs)\n",
    "options.add_argument(\"disable-infobars\")  \n",
    "driver = webdriver.Chrome(r\"C:\\\\Users\\\\GIGABYTE\\\\Python_Homework_Save\\\\python homework\\\\專題作業\\\\chromedriver_win32\\\\chromedriver\",options=options)\n",
    "first_url='https://www.facebook.com/'\n",
    "driver.get(first_url)\n",
    "driver.find_element_by_xpath('//*[@id=\"email\"]').clear()#從路徑輸入輸出\n",
    "driver.find_element_by_xpath('//*[@id=\"email\"]').send_keys(\"eric60478@gmail.com\")\n",
    "driver.find_element_by_xpath('//*[@id=\"pass\"]').clear()\n",
    "driver.find_element_by_xpath('//*[@id=\"pass\"]').send_keys(\"22210375*Math\")\n",
    "driver.find_element_by_name('login').click()#可以從不同情形切入(登入)//submit或者click 達到依樣效果\n",
    "print(driver.find_element_by_class_name('a8c37x1j.ni8dbmo4.stjgntxs.l9j0dhe7.ltmttdrg.g0qnabr5').text)"
   ]
  },
  {
   "cell_type": "code",
   "execution_count": 6,
   "id": "6d56cddf",
   "metadata": {},
   "outputs": [
    {
     "name": "stderr",
     "output_type": "stream",
     "text": [
      "<ipython-input-6-194c0d90fbd6>:14: DeprecationWarning: executable_path has been deprecated, please pass in a Service object\n",
      "  driver = webdriver.Chrome(r\"C:\\\\Users\\\\GIGABYTE\\\\Python_Homework_Save\\\\python homework\\\\專題作業\\\\chromedriver_win32\\\\chromedriver\",options=options)\n",
      "<ipython-input-6-194c0d90fbd6>:17: DeprecationWarning: find_element_by_* commands are deprecated. Please use find_element() instead\n",
      "  driver.find_element_by_xpath('//*[@id=\"email\"]').clear()#從路徑輸入輸出\n",
      "<ipython-input-6-194c0d90fbd6>:18: DeprecationWarning: find_element_by_* commands are deprecated. Please use find_element() instead\n",
      "  driver.find_element_by_xpath('//*[@id=\"email\"]').send_keys(\"eric60478@gmail.com\")\n",
      "<ipython-input-6-194c0d90fbd6>:19: DeprecationWarning: find_element_by_* commands are deprecated. Please use find_element() instead\n",
      "  driver.find_element_by_xpath('//*[@id=\"pass\"]').clear()\n",
      "<ipython-input-6-194c0d90fbd6>:20: DeprecationWarning: find_element_by_* commands are deprecated. Please use find_element() instead\n",
      "  driver.find_element_by_xpath('//*[@id=\"pass\"]').send_keys(\"22210375*Math\")\n",
      "<ipython-input-6-194c0d90fbd6>:21: DeprecationWarning: find_element_by_* commands are deprecated. Please use find_element() instead\n",
      "  driver.find_element_by_name('login').click()\n",
      "<ipython-input-6-194c0d90fbd6>:24: DeprecationWarning: find_element_by_* commands are deprecated. Please use find_element() instead\n",
      "  driver.find_element_by_xpath('/html/body/div[1]/div/div[1]/div/div[2]/div[4]/div[1]/div[2]/span').click()\n"
     ]
    }
   ],
   "source": [
    "from selenium import webdriver\n",
    "import time\n",
    "from selenium.webdriver.support.wait import WebDriverWait\n",
    "# 關閉通知\n",
    "options = webdriver.ChromeOptions()\n",
    "prefs = {\n",
    "    'profile.default_content_setting_values':\n",
    "        {\n",
    "            'notifications': 2\n",
    "        }\n",
    "}\n",
    "options.add_experimental_option('prefs', prefs)\n",
    "options.add_argument(\"disable-infobars\")  \n",
    "driver = webdriver.Chrome(r\"C:\\\\Users\\\\GIGABYTE\\\\Python_Homework_Save\\\\python homework\\\\專題作業\\\\chromedriver_win32\\\\chromedriver\",options=options)\n",
    "first_url='https://www.facebook.com/'\n",
    "driver.get(first_url)\n",
    "driver.find_element_by_xpath('//*[@id=\"email\"]').clear()#從路徑輸入輸出\n",
    "driver.find_element_by_xpath('//*[@id=\"email\"]').send_keys(\"eric60478@gmail.com\")\n",
    "driver.find_element_by_xpath('//*[@id=\"pass\"]').clear()\n",
    "driver.find_element_by_xpath('//*[@id=\"pass\"]').send_keys(\"22210375*Math\")\n",
    "driver.find_element_by_name('login').click()\n",
    "button=\"tojvnm2t a6sixzi8 abs2jz4q a8s20v7p t1p8iaqh k5wvi7nf q3lfd5jv pk4s997a bipmatt0 cebpdrjk qowsmv63 owwhemhu dp1hu0rb dhp61c6y iyyx5f41\"\n",
    "button=button.replace(\" \",\".\")\n",
    "driver.find_element_by_xpath('/html/body/div[1]/div/div[1]/div/div[2]/div[4]/div[1]/div[2]/span').click()"
   ]
  },
  {
   "cell_type": "code",
   "execution_count": null,
   "id": "f8f18db6",
   "metadata": {},
   "outputs": [],
   "source": []
  }
 ],
 "metadata": {
  "kernelspec": {
   "display_name": "Python 3",
   "language": "python",
   "name": "python3"
  },
  "language_info": {
   "codemirror_mode": {
    "name": "ipython",
    "version": 3
   },
   "file_extension": ".py",
   "mimetype": "text/x-python",
   "name": "python",
   "nbconvert_exporter": "python",
   "pygments_lexer": "ipython3",
   "version": "3.8.8"
  }
 },
 "nbformat": 4,
 "nbformat_minor": 5
}
