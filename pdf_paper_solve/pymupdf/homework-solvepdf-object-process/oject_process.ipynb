{
 "cells": [
  {
   "cell_type": "code",
   "execution_count": 1,
   "id": "22a7998b",
   "metadata": {},
   "outputs": [],
   "source": [
    "import os\n",
    "import fitz\n",
    "import time\n",
    "import numpy as np"
   ]
  },
  {
   "cell_type": "code",
   "execution_count": 2,
   "id": "c2ec7199",
   "metadata": {},
   "outputs": [],
   "source": [
    "class base:\n",
    "    def __init__(self):\n",
    "        self.wherepdf='D:\\\\[Keep]\\\\Desktop\\\\project\\\\pdfcollector'\n",
    "        self.placefile='D:\\\\[Keep]\\\\Desktop\\\\project'\n",
    "        self.filename='total'"
   ]
  },
  {
   "cell_type": "code",
   "execution_count": 3,
   "id": "7d908f4e",
   "metadata": {},
   "outputs": [],
   "source": [
    "class file(base):\n",
    "    def filenames(self)->list:\n",
    "        '''列出資料夾中有的files'''\n",
    "        files=os.listdir(self.wherepdf)\n",
    "        for i in range(len(files)):\n",
    "            files[i]=files[i].replace('.pdf','')\n",
    "        return files\n",
    "    def findpdfPutpath(self,pdfname:str)->str:\n",
    "        '''findpdfpath(pdfname檔案名字)'''\n",
    "        pdfcorrect=str(self.wherepdf+'\\\\'+pdfname+'.pdf')\n",
    "        return pdfcorrect\n",
    "    def findtxtPutpath(self,txtname:str)->str:\n",
    "        '''findtxtpath(txtname檔案名字)'''\n",
    "        pdfcorrect=str(self.placefile+'\\\\'+self.filename+'\\\\'+txtname+'.txt')\n",
    "        return pdfcorrect\n",
    "    def lenoftxt(self,filepath:str)->str:\n",
    "        '''lenoftxt(txt檔路徑filepath)'''\n",
    "        try:\n",
    "            txt=open(filepath,'r',encoding='utf-8')\n",
    "            txtlen=len(txt.read())\n",
    "            txt.close()\n",
    "            return txtlen  \n",
    "        except:\n",
    "            print('cant find txt')\n",
    "    def createdetail(self,name:list,processtime:list,pdflens:list):\n",
    "        '''傳入list createdetail(self,名字name,時間processtime,長度pdflens)'''\n",
    "        try:\n",
    "            detail=open(self.placefile+'\\\\'+'PDF_process_detail.txt','w',encoding='utf-8')\n",
    "            for i in range(len(name)):\n",
    "                detail.writelines(str(name[i])+\"Time:  \"+str(processtime[i])+\"秒   \"+\"Len:  \"+str(pdflens[i])+'個字  \\n')\n",
    "            detail.close()\n",
    "        except:\n",
    "            print('cant create index')\n",
    "    def Pdftotxtfile(self,txtstring:str,txtpath:str):\n",
    "        '''writepdftotxt(self,全部字串txtstring,要放的路徑txtpath)'''\n",
    "        try:\n",
    "            txt=open(txtpath,'w',encoding='utf-8')\n",
    "            txt.write(txtstring)\n",
    "            txt.close()\n",
    "        except:\n",
    "            print('cant create index')\n",
    "    def  createPuttxtdir(self):\n",
    "        '''創建要放txt的file'''\n",
    "        os.chdir(self.placefile+'\\\\'+self.filename)\n",
    "        if  not os.path.isdir(self.placefile+'\\\\'+self.filename):\n",
    "            os.mkdir(self.placefile+'\\\\'+self.filename)\n",
    "            \n",
    "            \n",
    "            "
   ]
  },
  {
   "cell_type": "code",
   "execution_count": 4,
   "id": "fbef0dc1",
   "metadata": {},
   "outputs": [],
   "source": [
    "class fitztry(base):\n",
    "    def getpdflinesinfo(self,pdfpath):\n",
    "        '''getpdflinesinfo(self,pdfpath)輸入pdf的path'''\n",
    "        doc = fitz.open(pdfpath)\n",
    "        total=[]\n",
    "        count=0\n",
    "        for i in doc:\n",
    "            total=total+i.get_text('blocks')\n",
    "        for j in range(len(total)):\n",
    "            total[j-count]=list(total[j-count])\n",
    "            total[j-count][4]=total[j-count][4].replace(\"\\n\", \"\")\n",
    "            total[j-count][4]=total[j-count][4].strip(\" \")\n",
    "            if(total[j-count][4]==''):\n",
    "                total.pop(j-count)\n",
    "                count=count+1\n",
    "        return total"
   ]
  },
  {
   "cell_type": "code",
   "execution_count": 24,
   "id": "4bdd0fea",
   "metadata": {},
   "outputs": [],
   "source": [
    "class stringprocess(base):\n",
    "    def x0list(self,totallist):\n",
    "        '''輸入getpdflinesinfo之矩陣即可以找出x0的位置形成list'''\n",
    "        x0list=[]\n",
    "        for i in totallist:\n",
    "            x0list.append(i[0])\n",
    "        return x0list\n",
    "    def x1list(self,totallist:list):\n",
    "        '''輸入getpdflinesinfo之矩陣即可以找出x0的位置形成list'''\n",
    "        x1list=[]\n",
    "        for i in totallist:\n",
    "            x1list.append(i[2])\n",
    "        return x1list\n",
    "    def y0list(self,totallist:list):\n",
    "        '''輸入getpdflinesinfo之矩陣即可以找出x0的位置形成list'''\n",
    "        y0list=[]\n",
    "        for i in totallist:\n",
    "            y0list.append(i[1])\n",
    "        return y0list\n",
    "    def y1list(self,totallist:list):\n",
    "        '''輸入getpdflinesinfo之矩陣即可以找出x0的位置形成list'''\n",
    "        y1list=[]\n",
    "        for i in totallist:\n",
    "            y1list.append(i[3])\n",
    "        return y1list\n",
    "    def quantile(self,totallist):\n",
    "        '''輸出上下四分位距值'''\n",
    "        quantilelow=np.quantile(totallist,0.25,interpolation='lower')\n",
    "        quantilehigh=np.quantile(totallist,0.75,interpolation='higher')\n",
    "        return quantilelow,quantilehigh\n",
    "    def std(self,totallist):\n",
    "        '''傳回矩陣標準差'''\n",
    "        stdd=np.std(totallist, ddof=1)\n",
    "        return stdd\n",
    "    def changearticlelines(self,totallist,quantilex0low:float,quantilex1high:float):\n",
    "        '''修改靠左對齊且右方提前結束的換行,英文字在txt中自動換行'''\n",
    "        totallistt=totallist\n",
    "        for i in range(len(totallistt)):\n",
    "            if ((quantilex0low-1)<totallistt[i][0]<(quantilex0low+1))& (not ((quantilex1high-6)<totallistt[i][2]<(quantilex1high+6))):\n",
    "                totallistt[i][4]=str(totallistt[i][4])+'\\n'\n",
    "                #print(totallistt[i][4])\n",
    "        return totallistt\n",
    "    def changespeciallines(self,totallist:list,quantilex0low:float,quantilex1high:float):\n",
    "        '''修改沒靠左對齊且右方提前結束的換行'''\n",
    "        totallistt=totallist\n",
    "        for i in range(len(totallistt)):\n",
    "            if (not((quantilex0low-1)<totallistt[i][0]<(quantilex0low+1)))& (not ((quantilex1high-7)<totallistt[i][2]<(quantilex1high+7))):\n",
    "                totallistt[i][4]=str(totallistt[i][4])+'\\n'\n",
    "                #print(totallistt[i][4])\n",
    "        return totallistt\n",
    "    def deletepictureinfo(self,totallist:list):\n",
    "        '''刪除image訊息不已後方判斷'''\n",
    "        totallistt=totallist\n",
    "        count=0\n",
    "        for i in range(len(totallistt)):\n",
    "            try:\n",
    "                if  (list(totallistt[i-count][4])[0]=='<')&(list(totallistt[i-count][4])[1]=='i')&(list(totallistt[i-count][4])[2]=='m'):\n",
    "                    #print(totallistt[i-count][4])\n",
    "                    totallistt.pop(i-count)            \n",
    "                    #print(count)\n",
    "                    count=count+1\n",
    "            except:\n",
    "                continue\n",
    "        return totallistt\n",
    "    def deletefront(self,totallist:list):\n",
    "        totallistt=totallist\n",
    "        count=0\n",
    "        for i in range(len(totallistt)):\n",
    "            if  (float(totallistt[i-count][1])<50)or(float(totallistt[i-count][3])>770):\n",
    "                #print(totallistt[i-count])\n",
    "                totallistt.pop(i-count)                \n",
    "                count=count+1\n",
    "        return totallistt\n",
    "\n",
    "        \n"
   ]
  },
  {
   "cell_type": "code",
   "execution_count": 25,
   "id": "0e94d6e0",
   "metadata": {},
   "outputs": [],
   "source": [
    "import time\n",
    "filee=file()\n",
    "fitztryy=fitztry()\n",
    "stringprocesss=stringprocess()\n",
    "timeuse=[]\n",
    "lenoftxt=[]\n",
    "for i in filee.filenames():\n",
    "    timefirst=time.time()\n",
    "    k=filee.findpdfPutpath(i)\n",
    "    k=fitztryy.getpdflinesinfo(k)\n",
    "    x0list=np.sort(stringprocesss.x0list(k))\n",
    "    x1list=np.sort(stringprocesss.x1list(k))\n",
    "    quantilelow,m=stringprocesss.quantile(x0list)\n",
    "    n,quantilehigh=stringprocesss.quantile(x1list)\n",
    "    k=stringprocesss.changearticlelines(k,quantilelow,quantilehigh)\n",
    "    k=stringprocesss.changespeciallines(k,quantilelow,quantilehigh)\n",
    "    k=stringprocesss.deletepictureinfo(k)\n",
    "    k=stringprocesss.deletefront(k)\n",
    "    totalstring=''\n",
    "    for j in range(len(k)):\n",
    "        totalstring=totalstring+str(k[j][4])\n",
    "    wheretoputtxt=filee.findtxtPutpath(i)\n",
    "    timesecond=time.time()\n",
    "    filee.createPuttxtdir()\n",
    "    filee.Pdftotxtfile(totalstring,wheretoputtxt)\n",
    "    #print(wheretoputtxt)\n",
    "    r=filee.lenoftxt(wheretoputtxt)\n",
    "    e=timesecond-timefirst\n",
    "    timeuse.append(r)\n",
    "    lenoftxt.append(e)\n",
    "filee.createdetail(filee.filenames(),lenoftxt,timeuse)"
   ]
  },
  {
   "cell_type": "code",
   "execution_count": 7,
   "id": "3c8389c9",
   "metadata": {},
   "outputs": [
    {
     "name": "stdout",
     "output_type": "stream",
     "text": [
      "cant create index\n"
     ]
    }
   ],
   "source": [
    "r=filee.lenoftxt('D:\\\\[Keep]\\\\Desktop\\\\project\\\\total\\\\碩士論文_盧毅_v1.7_20200819.txt')\n",
    "a=open('D:\\\\[Keep]\\\\Desktop\\\\project\\\\total\\\\fb220309225809.txt',encoding='utf-8')\n",
    "filee.createdetail(1,2,3)"
   ]
  },
  {
   "cell_type": "markdown",
   "id": "4ce1ae77",
   "metadata": {},
   "source": [
    "測試區"
   ]
  },
  {
   "cell_type": "code",
   "execution_count": 8,
   "id": "bded4846",
   "metadata": {
    "scrolled": false
   },
   "outputs": [],
   "source": [
    "p=fitztry()\n",
    "y=stringprocess()\n",
    "a=p.getpdflinesinfo('D:\\\\[Keep]\\\\Desktop\\\\project\\\\pdfcollector\\\\fb220309225809.pdf')\n",
    "o=y.x0list(a)\n",
    "quantilex0low,m=y.quantile(o)\n",
    "r=y.x1list(a)\n",
    "n,quantilex1high=y.quantile(r)\n",
    "z=y.changearticlelines(a,quantilex0low,quantilex1high)\n",
    "h=y.changespeciallines(z,quantilex0low,quantilex1high)\n",
    "h=y.deletepictureinfo(h)\n",
    "h=y.deletetitle(h)\n",
    "q=''\n",
    "for i in h:\n",
    "    q=q+i[4]\n",
    "b=file()\n",
    "v=b.Pdftotxtfile(q,'D:\\\\[Keep]\\\\Desktop\\\\project\\\\test.txt')\n"
   ]
  },
  {
   "cell_type": "code",
   "execution_count": 9,
   "id": "6e0431b2",
   "metadata": {},
   "outputs": [
    {
     "name": "stdout",
     "output_type": "stream",
     "text": [
      "Pixmap(DeviceRGB, IRect(0, 0, 596, 842), 0)\n",
      "[(90.02400207519531, 44.609954833984375, 97.31570434570312, 54.5699577331543, '1 \\n', 0, 0), (90.02400207519531, 769.9860229492188, 97.31570434570312, 792.1859741210938, '2 \\n \\n', 1, 0), (90.02400207519531, 76.0999755859375, 226.56289672851562, 88.0999755859375, '1111111111111111111111 \\n', 2, 0)] \n",
      "\n"
     ]
    }
   ],
   "source": [
    "doc = fitz.open('D:\\\\[Keep]\\\\Desktop\\\\project\\\\pdfcollector\\\\try3.pdf')\n",
    "for i in doc:\n",
    "    r=i.get_text('blocks')\n",
    "    print(i.get_pixmap())\n",
    "    print(r,'\\n')\n",
    "#單位向素每個字大約6相素"
   ]
  },
  {
   "cell_type": "code",
   "execution_count": 10,
   "id": "26a2f840",
   "metadata": {},
   "outputs": [],
   "source": [
    "doc = fitz.open('D:\\\\[Keep]\\\\Desktop\\\\project\\\\pdfcollector\\\\fb220309225809.pdf')\n",
    "for annot in doc[10].widgets():\n",
    "    print(annot)\n"
   ]
  },
  {
   "cell_type": "code",
   "execution_count": 11,
   "id": "294734bf",
   "metadata": {},
   "outputs": [
    {
     "data": {
      "text/plain": [
       "['fb220309225809',\n",
       " 'fb220309225908',\n",
       " 'fb220309225926',\n",
       " 'fb220309225936',\n",
       " 'PSPICE Tutorial',\n",
       " 'syllabus2022',\n",
       " 'try',\n",
       " 'try2',\n",
       " 'try3',\n",
       " '碩士論文_盧毅_v1.7_20200819']"
      ]
     },
     "execution_count": 11,
     "metadata": {},
     "output_type": "execute_result"
    }
   ],
   "source": [
    "p=file()\n",
    "p.filenames()"
   ]
  },
  {
   "cell_type": "code",
   "execution_count": 12,
   "id": "d08ce429",
   "metadata": {},
   "outputs": [
    {
     "data": {
      "text/plain": [
       "'D:\\\\[Keep]\\\\Desktop\\\\project\\\\pdfcollector\\\\fb220309225809.pdf'"
      ]
     },
     "execution_count": 12,
     "metadata": {},
     "output_type": "execute_result"
    }
   ],
   "source": [
    "p.findpdfPutpath('fb220309225809')"
   ]
  },
  {
   "cell_type": "code",
   "execution_count": 13,
   "id": "a9f6fc35",
   "metadata": {},
   "outputs": [
    {
     "data": {
      "text/plain": [
       "130157"
      ]
     },
     "execution_count": 13,
     "metadata": {},
     "output_type": "execute_result"
    }
   ],
   "source": [
    "p.lenoftxt('D:\\\\[Keep]\\\\Desktop\\\\project\\\\total\\\\fb220309225809.txt')"
   ]
  },
  {
   "cell_type": "code",
   "execution_count": 14,
   "id": "696e717e",
   "metadata": {},
   "outputs": [],
   "source": [
    "p.createdetail([1,2,3],[2,3,4],[5,6,7])"
   ]
  },
  {
   "cell_type": "code",
   "execution_count": 15,
   "id": "dcd2bd8c",
   "metadata": {},
   "outputs": [
    {
     "data": {
      "text/plain": [
       "['s', 'd', 'f', 'a', 'a', 's', 'd', 'f']"
      ]
     },
     "execution_count": 15,
     "metadata": {},
     "output_type": "execute_result"
    }
   ],
   "source": [
    "list('sdfaasdf')"
   ]
  },
  {
   "cell_type": "code",
   "execution_count": 16,
   "id": "2ced56aa",
   "metadata": {},
   "outputs": [],
   "source": [
    "p.Pdftotxtfile('4564654','D:\\\\[Keep]\\\\Desktop\\\\project\\\\total\\\\fb220309225809.txt')"
   ]
  },
  {
   "cell_type": "code",
   "execution_count": 17,
   "id": "01e0c6cf",
   "metadata": {},
   "outputs": [],
   "source": [
    "?p.Pdftotxtfile"
   ]
  },
  {
   "cell_type": "code",
   "execution_count": 18,
   "id": "78038cf6",
   "metadata": {},
   "outputs": [
    {
     "name": "stdout",
     "output_type": "stream",
     "text": [
      "Object `Demo.do_something` not found.\n"
     ]
    }
   ],
   "source": [
    "?Demo.do_something"
   ]
  },
  {
   "cell_type": "code",
   "execution_count": 19,
   "id": "431c307e",
   "metadata": {},
   "outputs": [
    {
     "data": {
      "text/plain": [
       "[(466.333251953125,\n",
       "  787.962158203125,\n",
       "  571.4832763671875,\n",
       "  822.93017578125,\n",
       "  'doi:10.6342/NTU202101736\\n',\n",
       "  0,\n",
       "  0),\n",
       " (421.025634765625,\n",
       "  70.8743896484375,\n",
       "  524.525634765625,\n",
       "  174.3743896484375,\n",
       "  '<image: DeviceGray, width: 207, height: 207, bpc: 8>',\n",
       "  1,\n",
       "  1),\n",
       " (56.625, 34.869964599609375, 59.125, 48.209964752197266, ' \\n', 2, 0),\n",
       " (292.70001220703125,\n",
       "  781.844970703125,\n",
       "  305.20001220703125,\n",
       "  795.1849975585938,\n",
       "  'III \\n',\n",
       "  3,\n",
       "  0),\n",
       " (538.77001953125,\n",
       "  793.2449340820312,\n",
       "  541.27001953125,\n",
       "  806.5849609375,\n",
       "  ' \\n',\n",
       "  4,\n",
       "  0),\n",
       " (277.5, 82.969970703125, 322.5, 109.64997100830078, '摘要 \\n', 5, 0),\n",
       " (56.625,\n",
       "  121.78398132324219,\n",
       "  538.4620361328125,\n",
       "  137.79197692871094,\n",
       "  '自從 1979 年的美國以及 1990 年代的歐盟成員國家通過開放天空政策之後，造成航空產業的\\n',\n",
       "  6,\n",
       "  0),\n",
       " (56.625,\n",
       "  148.22064208984375,\n",
       "  538.5059814453125,\n",
       "  160.22064208984375,\n",
       "  '市場競爭以及經營模式有顯著性的變遷。許多航空公司加入航空聯盟以增加市場的競爭性，\\n',\n",
       "  7,\n",
       "  0),\n",
       " (56.625,\n",
       "  171.640625,\n",
       "  538.3529663085938,\n",
       "  183.640625,\n",
       "  '因此航空聯盟是由許多成員航空公司所組成，有共同的市場目標。機場的連結性在航空市場\\n',\n",
       "  8,\n",
       "  0),\n",
       " (56.625,\n",
       "  195.2406005859375,\n",
       "  538.4959716796875,\n",
       "  207.2406005859375,\n",
       "  '中扮演一個重要的角色，代表不同的航線可以連結不同地區市場。過去的機場網路文獻很少\\n',\n",
       "  9,\n",
       "  0),\n",
       " (56.625,\n",
       "  218.640625,\n",
       "  538.3529663085938,\n",
       "  230.640625,\n",
       "  '探討航空聯盟內部航空公司的合作關係以及航空聯盟之間成員航空公司競爭關係。因此本研\\n',\n",
       "  10,\n",
       "  0),\n",
       " (56.625,\n",
       "  239.0139617919922,\n",
       "  538.7500610351562,\n",
       "  255.02195739746094,\n",
       "  '究利用網絡分析來了解三大航空聯盟的航空聯盟機場網路的市場特徵，包括: 星空聯盟、天合\\n',\n",
       "  11,\n",
       "  0),\n",
       " (56.625,\n",
       "  265.44061279296875,\n",
       "  541.449951171875,\n",
       "  277.44061279296875,\n",
       "  '聯盟以及寰宇一家。機場網絡群可利用其航點的空間分布定義出國內型與國際型機場網路群；\\n',\n",
       "  12,\n",
       "  0),\n",
       " (56.625,\n",
       "  288.860595703125,\n",
       "  538.5800170898438,\n",
       "  300.860595703125,\n",
       "  '同時國際型機場網路群可以用來評估航空聯盟內成員航空公司的合作程度。航空聯盟間的獨\\n',\n",
       "  13,\n",
       "  0),\n",
       " (56.625,\n",
       "  312.2706298828125,\n",
       "  538.3529663085938,\n",
       "  324.2706298828125,\n",
       "  '佔與競爭航線，可利用機場網絡群結構與航線分布計算出來。研究結果顯示星空聯盟的成員\\n',\n",
       "  14,\n",
       "  0),\n",
       " (56.625,\n",
       "  335.6706237792969,\n",
       "  538.3529663085938,\n",
       "  347.6706237792969,\n",
       "  '航空公司擁有最高的內部合作能力，並且在中美洲擁有一個國際型機場網路群。同時每一個\\n',\n",
       "  15,\n",
       "  0),\n",
       " (56.625,\n",
       "  359.07061767578125,\n",
       "  538.3529663085938,\n",
       "  371.07061767578125,\n",
       "  '航空聯盟都有各自獨佔航線，國際競爭航線主要分布在東亞、西亞、歐洲與北美洲；國內競\\n',\n",
       "  16,\n",
       "  0),\n",
       " (56.625,\n",
       "  382.4906005859375,\n",
       "  538.3529663085938,\n",
       "  394.4906005859375,\n",
       "  '爭航線則分布在美國、歐洲與東亞。研究發現可以應用於航空公司與航空聯盟，在建立新航\\n',\n",
       "  17,\n",
       "  0),\n",
       " (56.625,\n",
       "  405.890625,\n",
       "  538.3529663085938,\n",
       "  417.890625,\n",
       "  '線與選擇新成員航空公司時作為參考使用，以了解新航線與新成員航空公司對於整體航空聯\\n',\n",
       "  18,\n",
       "  0),\n",
       " (56.625,\n",
       "  426.2640075683594,\n",
       "  191.64999389648438,\n",
       "  442.2720031738281,\n",
       "  '盟機場網路的市場影響。 \\n',\n",
       "  19,\n",
       "  0),\n",
       " (56.625, 449.4639892578125, 59.625, 465.47198486328125, ' \\n', 20, 0),\n",
       " (56.625,\n",
       "  470.4639892578125,\n",
       "  333.70001220703125,\n",
       "  487.1919860839844,\n",
       "  '關鍵字: 航空聯盟機場網路、機場網絡群、市場特徵 \\n',\n",
       "  21,\n",
       "  0),\n",
       " (56.625, 493.6940002441406, 59.625, 509.7019958496094, ' \\n', 22, 0),\n",
       " (56.625,\n",
       "  521.4940185546875,\n",
       "  203.67999267578125,\n",
       "  537.5020141601562,\n",
       "  ' \\n \\n',\n",
       "  23,\n",
       "  0)]"
      ]
     },
     "execution_count": 19,
     "metadata": {},
     "output_type": "execute_result"
    }
   ],
   "source": [
    "import fitz\n",
    "import pandas as pd \n",
    "doc = fitz.open('D:\\\\[Keep]\\\\Desktop\\\\project\\\\pdfcollector\\\\fb220309225809.pdf')\n",
    "page1 = doc[3]\n",
    "words = page1.get_text('blocks')\n",
    "words"
   ]
  },
  {
   "cell_type": "code",
   "execution_count": 20,
   "id": "be4119ae",
   "metadata": {},
   "outputs": [
    {
     "ename": "AttributeError",
     "evalue": "'NoneType' object has no attribute 'rect'",
     "output_type": "error",
     "traceback": [
      "\u001b[1;31m---------------------------------------------------------------------------\u001b[0m",
      "\u001b[1;31mAttributeError\u001b[0m                            Traceback (most recent call last)",
      "\u001b[1;32m~\\AppData\\Local\\Temp/ipykernel_9872/4248202069.py\u001b[0m in \u001b[0;36m<module>\u001b[1;34m\u001b[0m\n\u001b[0;32m      1\u001b[0m \u001b[0mfirst_annots\u001b[0m\u001b[1;33m=\u001b[0m\u001b[1;33m[\u001b[0m\u001b[1;33m]\u001b[0m\u001b[1;33m\u001b[0m\u001b[1;33m\u001b[0m\u001b[0m\n\u001b[1;32m----> 2\u001b[1;33m \u001b[0mrec\u001b[0m\u001b[1;33m=\u001b[0m\u001b[0mpage1\u001b[0m\u001b[1;33m.\u001b[0m\u001b[0mfirst_annot\u001b[0m\u001b[1;33m.\u001b[0m\u001b[0mrect\u001b[0m\u001b[1;33m\u001b[0m\u001b[1;33m\u001b[0m\u001b[0m\n\u001b[0m\u001b[0;32m      3\u001b[0m \u001b[0mrec\u001b[0m\u001b[1;33m\u001b[0m\u001b[1;33m\u001b[0m\u001b[0m\n",
      "\u001b[1;31mAttributeError\u001b[0m: 'NoneType' object has no attribute 'rect'"
     ]
    }
   ],
   "source": [
    "first_annots=[]\n",
    "rec=page1.first_annot.rect\n",
    "rec"
   ]
  },
  {
   "cell_type": "code",
   "execution_count": null,
   "id": "8fca5cfe",
   "metadata": {},
   "outputs": [],
   "source": [
    "[1]+[2]"
   ]
  },
  {
   "cell_type": "code",
   "execution_count": null,
   "id": "8d358db6",
   "metadata": {},
   "outputs": [],
   "source": []
  }
 ],
 "metadata": {
  "kernelspec": {
   "display_name": "Python 3 (ipykernel)",
   "language": "python",
   "name": "python3"
  },
  "language_info": {
   "codemirror_mode": {
    "name": "ipython",
    "version": 3
   },
   "file_extension": ".py",
   "mimetype": "text/x-python",
   "name": "python",
   "nbconvert_exporter": "python",
   "pygments_lexer": "ipython3",
   "version": "3.9.7"
  }
 },
 "nbformat": 4,
 "nbformat_minor": 5
}
