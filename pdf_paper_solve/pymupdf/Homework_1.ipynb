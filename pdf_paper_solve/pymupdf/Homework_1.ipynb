{
 "cells": [
  {
   "cell_type": "code",
   "execution_count": 10,
   "id": "cf565f64",
   "metadata": {},
   "outputs": [],
   "source": [
    "import fitz\n",
    "file = fitz.open('C:\\\\Users\\\\GIGABYTE\\\\Python_Homework_Save\\\\python homework\\\\專題作業\\\\PSPICE Tutorial.pdf')\n",
    "for pageNumber, page in enumerate(file.pages(),start=1):\n",
    "    text=page.getText()\n",
    "    txt=open('C:\\\\Users\\\\GIGABYTE\\\\Python_Homework_Save\\\\python homework\\\\專題作業\\\\try_pymu\\\\'+str(pageNumber)+'.txt','w',encoding='utf-8')\n",
    "    txt.writelines(text)\n",
    "    txt.close()\n"
   ]
  },
  {
   "cell_type": "code",
   "execution_count": 47,
   "id": "d4eb44fb",
   "metadata": {},
   "outputs": [],
   "source": [
    "import fitz\n",
    "file = fitz.open('C:\\\\Users\\\\GIGABYTE\\\\Python_Homework_Save\\\\python homework\\\\專題作業\\\\PSPICE Tutorial.pdf')\n",
    "for pageNumber, page in enumerate(file.pages(),start=1):\n",
    "    for imgNumber, img in enumerate(page.get_images(),start=1):\n",
    "        xerf=img[0]#相片大小\n",
    "        pix=fitz.Pixmap(file,xerf)#圖片的資訊\n",
    "        if pix.n>4:\n",
    "            pix=fitz.Pixmap(fitz.csRGB,pix)\n",
    "        pix.writePNG('C:\\\\Users\\\\GIGABYTE\\\\Python_Homework_Save\\\\python homework\\\\專題作業\\\\try_pumu_img\\\\'+str(imgNumber)+'.png','w')"
   ]
  },
  {
   "cell_type": "code",
   "execution_count": 4,
   "id": "bf5036be",
   "metadata": {},
   "outputs": [
    {
     "name": "stderr",
     "output_type": "stream",
     "text": [
      "Deprecation: 'getText' removed from class 'Page' after v1.19 - use 'get_text'.\n"
     ]
    }
   ],
   "source": [
    "import fitz\n",
    "import os\n",
    "def get_txt_fitz(PlaceTxt,PdfLink,TxtName):\n",
    "    '''PlaceTxt選擇放置的資料夾的位置,PdfLink選擇檔案,TxtName創造放置資料夾的名字'''\n",
    "    os.chdir(PlaceTxt)\n",
    "    if  not os.path.isdir(PlaceTxt+'\\\\'+TxtName):\n",
    "        os.mkdir(PlaceTxt+'\\\\'+TxtName)\n",
    "    file = fitz.open(PdfLink)\n",
    "    for pageNumber, page in enumerate(file.pages(),start=1):\n",
    "        text=page.getText()\n",
    "        txt=open(PlaceTxt+'\\\\'+TxtName+'\\\\'+str(pageNumber)+'.txt','w',encoding='utf-8')\n",
    "        txt.writelines(text)\n",
    "        txt.close()\n",
    "def get_img(PlaceImg,PdfLink,ImgName):\n",
    "    '''PlaceTxt選擇放置的資料夾的位置,PdfLink選擇檔案,ImgName創造放置資料夾的名字'''\n",
    "    os.chdir(PlaceImg)\n",
    "    if  not os.path.isdir(PlaceImg+'\\\\'+ImgName):\n",
    "        os.mkdir(PlaceImg+'\\\\'+ImgName)\n",
    "    file = fitz.open(PdfLink)\n",
    "    for pageNumber, page in enumerate(file.pages(),start=1):\n",
    "        for imgNumber, img in enumerate(page.get_images(),start=1):\n",
    "            xerf=img[0]#相片大小\n",
    "            pix=fitz.Pixmap(file,xerf)#bbox()長寬\n",
    "            if pix.n>4:\n",
    "                pix=fitz.Pixmap(fitz.csRGB,pix)\n",
    "            pix.writePNG(PlaceImg+'\\\\'+ImgName+'\\\\'+str(imgNumber)+'.png','w')\n",
    "if __name__ == '__main__' :\n",
    "    get_img('C:\\\\Users\\\\GIGABYTE\\\\Python_Homework_Save\\\\python homework\\\\專題作業','C:\\\\Users\\\\GIGABYTE\\\\Python_Homework_Save\\\\python homework\\\\專題作業\\\\PSPICE Tutorial.pdf','eric')"
   ]
  },
  {
   "cell_type": "code",
   "execution_count": 15,
   "id": "e48c8f99",
   "metadata": {
    "scrolled": true
   },
   "outputs": [],
   "source": [
    "from PyPDF2 import PdfFileReader, PdfFileWriter\n",
    "import os\n",
    "def get_txt_PyPDF2(PlaceTxt,PdfLink,TxtName):   \n",
    "    os.chdir(PlaceTxt)    \n",
    "    if  not os.path.isdir(PlaceTxt+'\\\\'+TxtName):\n",
    "        os.mkdir(PlaceTxt+'\\\\'+TxtName)\n",
    "    file = PdfFileReader(PdfLink)\n",
    "    for pageNumber in range(file.numPages):\n",
    "        pagenow=file.getPage(pageNumber)\n",
    "        try: \n",
    "            text = pagenow.extractText()\n",
    "        except:\n",
    "            pass\n",
    "        txt=open(PlaceTxt+'\\\\'+TxtName+'\\\\'+str(pageNumber)+'.txt','w',encoding='utf-8')\n",
    "        txt.writelines(text)\n",
    "        txt.close()\n",
    "if __name__ == '__main__' :\n",
    "    get_txt_PyPDF2('C:\\\\Users\\\\GIGABYTE\\\\Python_Homework_Save\\\\python homework\\\\專題作業','C:\\\\Users\\\\GIGABYTE\\\\Python_Homework_Save\\\\python homework\\\\專題作業\\\\syllabus2022.pdf','eric')"
   ]
  },
  {
   "cell_type": "code",
   "execution_count": 7,
   "id": "a4f54d01",
   "metadata": {},
   "outputs": [
    {
     "ename": "ModuleNotFoundError",
     "evalue": "No module named 'PDFplumber'",
     "output_type": "error",
     "traceback": [
      "\u001b[1;31m---------------------------------------------------------------------------\u001b[0m",
      "\u001b[1;31mModuleNotFoundError\u001b[0m                       Traceback (most recent call last)",
      "\u001b[1;32m<ipython-input-7-eb3aeb9aa2b1>\u001b[0m in \u001b[0;36m<module>\u001b[1;34m\u001b[0m\n\u001b[1;32m----> 1\u001b[1;33m \u001b[1;32mimport\u001b[0m \u001b[0mPDFplumber\u001b[0m\u001b[1;31m#可以針對類excel檔pdf進行處理\u001b[0m\u001b[1;33m\u001b[0m\u001b[1;33m\u001b[0m\u001b[0m\n\u001b[0m\u001b[0;32m      2\u001b[0m \u001b[1;32mimport\u001b[0m \u001b[0mos\u001b[0m\u001b[1;33m\u001b[0m\u001b[1;33m\u001b[0m\u001b[0m\n\u001b[0;32m      3\u001b[0m \u001b[1;32mdef\u001b[0m \u001b[0mget_txt_PyPDF2\u001b[0m\u001b[1;33m(\u001b[0m\u001b[0mPlaceTxt\u001b[0m\u001b[1;33m,\u001b[0m\u001b[0mPdfLink\u001b[0m\u001b[1;33m,\u001b[0m\u001b[0mTxtName\u001b[0m\u001b[1;33m)\u001b[0m\u001b[1;33m:\u001b[0m\u001b[1;33m\u001b[0m\u001b[1;33m\u001b[0m\u001b[0m\n\u001b[0;32m      4\u001b[0m     \u001b[1;32mwith\u001b[0m \u001b[0mPDFplumber\u001b[0m\u001b[1;33m.\u001b[0m\u001b[0mopen\u001b[0m\u001b[1;33m(\u001b[0m\u001b[0mPdfLink\u001b[0m\u001b[1;33m)\u001b[0m \u001b[1;32mas\u001b[0m \u001b[0mtemp\u001b[0m\u001b[1;33m:\u001b[0m\u001b[1;33m\u001b[0m\u001b[1;33m\u001b[0m\u001b[0m\n\u001b[0;32m      5\u001b[0m         \u001b[0mos\u001b[0m\u001b[1;33m.\u001b[0m\u001b[0mchdir\u001b[0m\u001b[1;33m(\u001b[0m\u001b[0mPlaceTxt\u001b[0m\u001b[1;33m)\u001b[0m\u001b[1;33m\u001b[0m\u001b[1;33m\u001b[0m\u001b[0m\n",
      "\u001b[1;31mModuleNotFoundError\u001b[0m: No module named 'PDFplumber'"
     ]
    }
   ],
   "source": [
    "import PDFplumber#可以針對類excel檔pdf進行處理   \n",
    "import os\n",
    "def get_txt_PDFplumber(PlaceTxt,PdfLink,TxtName):\n",
    "    with PDFplumber.open(PdfLink) as temp:\n",
    "        os.chdir(PlaceTxt)\n",
    "        if  not os.path.isdir(PlaceTxt+'\\\\'+TxtName):\n",
    "            os.mkdir(PlaceTxt+'\\\\'+TxtName)\n",
    "        file = temp\n",
    "        for pageNumber, page in enumerate(file.pages(),start=1):\n",
    "            text=page.extract_text()\n",
    "            txt=open(PlaceTxt+'\\\\'+TxtName+'\\\\'+str(pageNumber)+'.txt','w',encoding='utf-8')\n",
    "            txt.writelines(text)\n",
    "            txt.close()"
   ]
  },
  {
   "cell_type": "markdown",
   "id": "897d8925",
   "metadata": {},
   "source": [
    "textract PDFminer.six 之類的均可以抽取出文字"
   ]
  },
  {
   "cell_type": "code",
   "execution_count": null,
   "id": "c64e61c8",
   "metadata": {},
   "outputs": [],
   "source": []
  }
 ],
 "metadata": {
  "kernelspec": {
   "display_name": "Python 3",
   "language": "python",
   "name": "python3"
  },
  "language_info": {
   "codemirror_mode": {
    "name": "ipython",
    "version": 3
   },
   "file_extension": ".py",
   "mimetype": "text/x-python",
   "name": "python",
   "nbconvert_exporter": "python",
   "pygments_lexer": "ipython3",
   "version": "3.8.8"
  }
 },
 "nbformat": 4,
 "nbformat_minor": 5
}
