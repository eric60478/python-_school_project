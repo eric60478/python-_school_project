{
 "cells": [
  {
   "cell_type": "code",
   "execution_count": 1,
   "id": "64d3795f",
   "metadata": {},
   "outputs": [],
   "source": [
    "import pandas as pd\n",
    "import os\n",
    "import win32com.client\n",
    "import os\n",
    "import requests\n",
    "from selenium import webdriver\n",
    "from webdriver_manager.chrome import ChromeDriverManager\n",
    "from bs4 import BeautifulSoup\n",
    "import zipfile\n",
    "import time"
   ]
  },
  {
   "cell_type": "markdown",
   "id": "48f3fc43",
   "metadata": {},
   "source": [
    "#簡單來說即是暴力展開另存新檔  file沒加xls filename有加"
   ]
  },
  {
   "cell_type": "code",
   "execution_count": 2,
   "id": "8181e680",
   "metadata": {},
   "outputs": [],
   "source": [
    "class base:\n",
    "    def __init__(self,WhereExcel,PlaceFile,Filename):\n",
    "        self.WhereExcel=WhereExcel\n",
    "        self.PlaceFile=PlaceFile\n",
    "        self.Filename=Filename"
   ]
  },
  {
   "cell_type": "code",
   "execution_count": 3,
   "id": "df43068c",
   "metadata": {},
   "outputs": [],
   "source": [
    "class file():\n",
    "    def  createPuttxtdir(self,path):\n",
    "        '''創建要放txt的file'''\n",
    "        if  not os.path.isdir(path):\n",
    "            os.mkdir(path)    \n",
    "    def  excel_recover(self,path_where,path_put):\n",
    "        #path_where損毀資料放的地方,path_put要放資料的地方\n",
    "        self.createPuttxtdir(path_put)\n",
    "        if os.path.isdir(path_put):\n",
    "            a=os.listdir(path_put)\n",
    "        for filename in os.listdir(path_where):\n",
    "            if not( (filename.split('.')[0]+'.xlsx') in a):\n",
    "                file= os.path.splitext(filename)[0]\n",
    "                o = win32com.client.Dispatch(\"Excel.Application\")\n",
    "                o.Visible = False\n",
    "                wb = o.Workbooks.Open(path_where+'\\\\' + filename) \n",
    "                wb.ActiveSheet.SaveAs(path_put+'\\\\' + file + \".xlsx\", 51) \n",
    "                o.Application.Quit()\n",
    "    def   read_excel_combine_chinese(self,path_where):\n",
    "        #path_where處理好的excel放哪裡\n",
    "        list_combine=[]\n",
    "        a=pd.read_excel(path_where,usecols=[\"英文名稱\", \"中文名稱\"])\n",
    "        c,d=a.shape\n",
    "        for i in range (c):\n",
    "            list_combine=list_combine+[[a.iloc[i]['英文名稱'],a.iloc[i]['中文名稱']]]\n",
    "        return list_combine\n",
    "    def  store_txt(self,path_where,path_put):\n",
    "        self.createPuttxtdir(path_put)\n",
    "        a=os.listdir(path_where)\n",
    "        for i in a:\n",
    "            b=self.read_excel_combine_chinese(path_where+'\\\\'+i)\n",
    "            txt=open(path_put+'\\\\'+i.strip('.xlsx')+'.txt','w',encoding='utf-8')\n",
    "            for k in b:\n",
    "                for n in k:\n",
    "                    txt.write(str(n))\n",
    "                txt.write('\\n')\n",
    "    def  total_resolve(self,broke_excelpath,put_file_large):\n",
    "        #輸入損毀的excel path,輸入要放置的path\n",
    "        self.createPuttxtdir(put_file_large)\n",
    "        self.createPuttxtdir(put_file_large+'\\\\'+'correct')\n",
    "        self.excel_recover(broke_excelpath,put_file_large+'\\\\correct')\n",
    "        self.store_txt(put_file_large+'\\\\correct',put_file_large+'\\\\'+'txtsolve')"
   ]
  },
  {
   "cell_type": "markdown",
   "id": "b46815d4",
   "metadata": {},
   "source": [
    "之後修改背景執行"
   ]
  },
  {
   "cell_type": "code",
   "execution_count": 57,
   "id": "cd9bd703",
   "metadata": {},
   "outputs": [],
   "source": [
    "class download():\n",
    "    def getinfo_name(self):\n",
    "        #得到所有資料\n",
    "        k=[]\n",
    "        response = requests.get(\"https://terms.naer.edu.tw/download/\")\n",
    "        soup = BeautifulSoup(response.text, \"html.parser\")\n",
    "        for i in soup.find_all('li'):\n",
    "            if '最後修改' in str(i):\n",
    "                i=str(i).strip('<li>')\n",
    "                i=i.split('<')\n",
    "                i=i[1]\n",
    "                i=i.split('>')\n",
    "                i=i[1]\n",
    "                k=k+[i]\n",
    "        return k\n",
    "    def new_report(self,test_report):\n",
    "        #輸入文件夾並會得到最新的文件名稱\n",
    "        lists = os.listdir(test_report)                                    #列出目錄的下所有文件和文件夾保存到lists\n",
    "        #print(list)\n",
    "        lists.sort(key=lambda fn:os.path.getmtime(test_report + \"\\\\\" + fn))#按時間排序\n",
    "        file_new = os.path.join(test_report,lists[-1])                     #獲取最新的文件保存到file_new\n",
    "        #print(file_new)\n",
    "        return file_new\n",
    "    def download_all(self,filenamelist,putdownload_path):\n",
    "        #上方名稱表單 放哪裡\n",
    "        domain_url = 'https://terms.naer.edu.tw/download/'\n",
    "        chrome_options = webdriver.ChromeOptions()\n",
    "        prefs={'profile.default_content_settings.popus':0,\n",
    "              'download.default_directory':putdownload_path,\n",
    "              'profile.default_content_setting_values.automatic_downloads':1}\n",
    "        chrome_options.add_experimental_option('prefs',prefs)\n",
    "        chrome_options.add_experimental_option('excludeSwitches',['enable-automation'])\n",
    "        browser = webdriver.Chrome('F:\\\\chromedriver',chrome_options=chrome_options)\n",
    "        browser.get(domain_url)\n",
    "        for i in filenamelist:\n",
    "            try:\n",
    "                a=browser.find_element_by_partial_link_text(i)\n",
    "                a.click()\n",
    "                time.sleep(1)\n",
    "                b=browser.find_element_by_partial_link_text(i+'壓縮檔')\n",
    "                b.click()\n",
    "                time.sleep(1)\n",
    "                browser.back()\n",
    "                p=self.new_report(putdownload_path)\n",
    "                os.rename(p,putdownload_path+'\\\\'+i+'.rar')\n",
    "            except:\n",
    "                continue\n",
    "        time.sleep(1)\n",
    "        browser.close()\n",
    "    def unzipfile(self,where_path,put_path):\n",
    "        path=where_path\n",
    "        j=os.listdir(put_path)\n",
    "        for t in range(len(j)):\n",
    "            j[t]=j[t].split('.')[0][0:-1]\n",
    "        for i in os.listdir(where_path):\n",
    "            p=i.split('.')[0]\n",
    "            if not(p in j):\n",
    "                zip_file = zipfile.ZipFile(path+'\\\\'+i)\n",
    "                zip_list = zip_file.namelist() # 得到压缩包里所有文件\n",
    "                count=0\n",
    "                for f in zip_list: \n",
    "                    zip_file.extract(f, put_path) # 循环解压文件到指定目录\n",
    "                    p=self.new_report(put_path)\n",
    "                    os.rename(p,put_path+'\\\\'+i.strip('.rar')+str(count)+'.'+p.split('.')[1])\n",
    "                    count=count+1\n",
    "        zip_file.close()"
   ]
  },
  {
   "cell_type": "code",
   "execution_count": 58,
   "id": "1778132c",
   "metadata": {},
   "outputs": [],
   "source": [
    "m=file()\n",
    "n=download()"
   ]
  },
  {
   "cell_type": "markdown",
   "id": "48b02945",
   "metadata": {},
   "source": [
    "下載資料"
   ]
  },
  {
   "cell_type": "code",
   "execution_count": 54,
   "id": "05d4f186",
   "metadata": {},
   "outputs": [
    {
     "name": "stderr",
     "output_type": "stream",
     "text": [
      "C:\\Users\\GIGABYTE\\AppData\\Local\\Temp/ipykernel_6376/208975642.py:33: DeprecationWarning: executable_path has been deprecated, please pass in a Service object\n",
      "  browser = webdriver.Chrome('F:\\\\chromedriver',chrome_options=chrome_options)\n",
      "C:\\Users\\GIGABYTE\\AppData\\Local\\Temp/ipykernel_6376/208975642.py:33: DeprecationWarning: use options instead of chrome_options\n",
      "  browser = webdriver.Chrome('F:\\\\chromedriver',chrome_options=chrome_options)\n",
      "C:\\Users\\GIGABYTE\\AppData\\Local\\Temp/ipykernel_6376/208975642.py:37: DeprecationWarning: find_element_by_partial_link_text is deprecated. Please use find_element(by=By.PARTIAL_LINK_TEXT, value=link_text) instead\n",
      "  a=browser.find_element_by_partial_link_text(i)\n",
      "C:\\Users\\GIGABYTE\\AppData\\Local\\Temp/ipykernel_6376/208975642.py:40: DeprecationWarning: find_element_by_partial_link_text is deprecated. Please use find_element(by=By.PARTIAL_LINK_TEXT, value=link_text) instead\n",
      "  b=browser.find_element_by_partial_link_text(i+'壓縮檔')\n"
     ]
    },
    {
     "ename": "AttributeError",
     "evalue": "'file' object has no attribute 'unzipfile'",
     "output_type": "error",
     "traceback": [
      "\u001b[1;31m---------------------------------------------------------------------------\u001b[0m",
      "\u001b[1;31mAttributeError\u001b[0m                            Traceback (most recent call last)",
      "\u001b[1;32m~\\AppData\\Local\\Temp/ipykernel_6376/2961994911.py\u001b[0m in \u001b[0;36m<module>\u001b[1;34m\u001b[0m\n\u001b[0;32m      1\u001b[0m \u001b[0mp\u001b[0m\u001b[1;33m=\u001b[0m\u001b[0mn\u001b[0m\u001b[1;33m.\u001b[0m\u001b[0mgetinfo_name\u001b[0m\u001b[1;33m(\u001b[0m\u001b[1;33m)\u001b[0m\u001b[1;33m\u001b[0m\u001b[1;33m\u001b[0m\u001b[0m\n\u001b[0;32m      2\u001b[0m \u001b[0mn\u001b[0m\u001b[1;33m.\u001b[0m\u001b[0mdownload_all\u001b[0m\u001b[1;33m(\u001b[0m\u001b[0mp\u001b[0m\u001b[1;33m,\u001b[0m\u001b[1;34m'F:\\\\Downloads'\u001b[0m\u001b[1;33m)\u001b[0m\u001b[1;33m\u001b[0m\u001b[1;33m\u001b[0m\u001b[0m\n\u001b[1;32m----> 3\u001b[1;33m \u001b[0mm\u001b[0m\u001b[1;33m.\u001b[0m\u001b[0munzipfile\u001b[0m\u001b[1;33m(\u001b[0m\u001b[1;34m'F:\\\\Downloads'\u001b[0m\u001b[1;33m,\u001b[0m\u001b[1;34m'F:\\\\doctor'\u001b[0m\u001b[1;33m)\u001b[0m\u001b[1;33m\u001b[0m\u001b[1;33m\u001b[0m\u001b[0m\n\u001b[0m",
      "\u001b[1;31mAttributeError\u001b[0m: 'file' object has no attribute 'unzipfile'"
     ]
    }
   ],
   "source": [
    "p=n.getinfo_name()\n",
    "n.download_all(p,'F:\\\\Downloads')\n",
    "m.unzipfile('F:\\\\Downloads','F:\\\\doctor')"
   ]
  },
  {
   "cell_type": "markdown",
   "id": "73c0a325",
   "metadata": {},
   "source": [
    "解壓縮資料"
   ]
  },
  {
   "cell_type": "code",
   "execution_count": 59,
   "id": "901fd2a2",
   "metadata": {},
   "outputs": [],
   "source": [
    "n.unzipfile('F:\\\\Downloads','F:\\\\doctor')"
   ]
  },
  {
   "cell_type": "markdown",
   "id": "b491ff7b",
   "metadata": {},
   "source": [
    "修復資料"
   ]
  },
  {
   "cell_type": "code",
   "execution_count": 60,
   "id": "b28b55cc",
   "metadata": {},
   "outputs": [],
   "source": [
    "m.total_resolve('F:\\\\doctor','F:\\\\correct')"
   ]
  },
  {
   "cell_type": "markdown",
   "id": "0c0cd6a2",
   "metadata": {},
   "source": [
    "保存區"
   ]
  },
  {
   "cell_type": "code",
   "execution_count": 41,
   "id": "ac558699",
   "metadata": {},
   "outputs": [
    {
     "data": {
      "text/plain": [
       "['Term_400_', '人體解剖學', '力學名詞', '土木工程名詞', '土木工程名詞', '土木工程名詞']"
      ]
     },
     "execution_count": 41,
     "metadata": {},
     "output_type": "execute_result"
    }
   ],
   "source": []
  },
  {
   "cell_type": "code",
   "execution_count": null,
   "id": "dec3b4d1",
   "metadata": {},
   "outputs": [
    {
     "name": "stderr",
     "output_type": "stream",
     "text": [
      "C:\\Users\\GIGABYTE\\AppData\\Local\\Temp/ipykernel_12088/908646745.py:8: DeprecationWarning: executable_path has been deprecated, please pass in a Service object\n",
      "  browser = webdriver.Chrome('F:\\\\chromedriver',chrome_options=chrome_options)\n",
      "C:\\Users\\GIGABYTE\\AppData\\Local\\Temp/ipykernel_12088/908646745.py:8: DeprecationWarning: use options instead of chrome_options\n",
      "  browser = webdriver.Chrome('F:\\\\chromedriver',chrome_options=chrome_options)\n",
      "C:\\Users\\GIGABYTE\\AppData\\Local\\Temp/ipykernel_12088/908646745.py:12: DeprecationWarning: find_element_by_partial_link_text is deprecated. Please use find_element(by=By.PARTIAL_LINK_TEXT, value=link_text) instead\n",
      "  a=browser.find_element_by_partial_link_text(i)\n",
      "C:\\Users\\GIGABYTE\\AppData\\Local\\Temp/ipykernel_12088/908646745.py:15: DeprecationWarning: find_element_by_partial_link_text is deprecated. Please use find_element(by=By.PARTIAL_LINK_TEXT, value=link_text) instead\n",
      "  b=browser.find_element_by_partial_link_text(i+'壓縮檔')\n",
      "Exception ignored in: <function Service.__del__ at 0x000001785923BE50>\n",
      "Traceback (most recent call last):\n",
      "  File \"C:\\Users\\GIGABYTE\\anaconda3\\lib\\site-packages\\selenium\\webdriver\\common\\service.py\", line 172, in __del__\n",
      "    self.stop()\n",
      "  File \"C:\\Users\\GIGABYTE\\anaconda3\\lib\\site-packages\\selenium\\webdriver\\common\\service.py\", line 147, in stop\n",
      "    self.send_remote_shutdown_command()\n",
      "  File \"C:\\Users\\GIGABYTE\\anaconda3\\lib\\site-packages\\selenium\\webdriver\\common\\service.py\", line 128, in send_remote_shutdown_command\n",
      "    if not self.is_connectable():\n",
      "  File \"C:\\Users\\GIGABYTE\\anaconda3\\lib\\site-packages\\selenium\\webdriver\\common\\service.py\", line 116, in is_connectable\n",
      "    return utils.is_connectable(self.port)\n",
      "  File \"C:\\Users\\GIGABYTE\\anaconda3\\lib\\site-packages\\selenium\\webdriver\\common\\utils.py\", line 107, in is_connectable\n",
      "    socket_ = socket.create_connection((host, port), 1)\n",
      "  File \"C:\\Users\\GIGABYTE\\anaconda3\\lib\\socket.py\", line 832, in create_connection\n",
      "    sock.connect(sa)\n",
      "KeyboardInterrupt: \n"
     ]
    }
   ],
   "source": [
    "  \n",
    "domain_url = 'https://terms.naer.edu.tw/download/'\n",
    "chrome_options = webdriver.ChromeOptions()\n",
    "prefs={'profile.default_content_settings.popus':0,\n",
    "      'download.default_directory':'F:\\\\Downloads',\n",
    "      'profile.default_content_setting_values.automatic_downloads':1}\n",
    "chrome_options.add_experimental_option('prefs',prefs)\n",
    "chrome_options.add_experimental_option('excludeSwitches',['enable-automation'])\n",
    "browser = webdriver.Chrome('F:\\\\chromedriver',chrome_options=chrome_options)\n",
    "browser.get(domain_url)\n",
    "for i in k:\n",
    "    try:\n",
    "        a=browser.find_element_by_partial_link_text(i)\n",
    "        a.click()\n",
    "        time.sleep(1)\n",
    "        b=browser.find_element_by_partial_link_text(i+'壓縮檔')\n",
    "        b.click()\n",
    "        time.sleep(1)\n",
    "        browser.back()\n",
    "    except:\n",
    "        continue\n",
    "time.sleep(1)\n",
    "browser.close()"
   ]
  },
  {
   "cell_type": "code",
   "execution_count": null,
   "id": "785cf41d",
   "metadata": {},
   "outputs": [],
   "source": [
    "a=pd.read_excel(\"F:\\\\correct\\\\Term_374_0.xlsx\",usecols=[\"英文名稱\", \"中文名稱\"])\n",
    "c,d=a.shape\n",
    "for i in range (c):\n",
    "    print(a.iloc[i]['中文名稱'])"
   ]
  },
  {
   "cell_type": "code",
   "execution_count": null,
   "id": "97b44323",
   "metadata": {},
   "outputs": [],
   "source": [
    "import win32com.client\n",
    "import os\n",
    "\n",
    "file_dir = \"F:\\\\doctor\" \n",
    "for filename in os.listdir(file_dir):\n",
    "    print(filename)\n",
    "    file= os.path.splitext(filename)[0]\n",
    "    o = win32com.client.Dispatch(\"Excel.Application\")\n",
    "    o.Visible = False\n",
    "    wb = o.Workbooks.Open(\"F:\\\\doctor\\\\\" + filename) \n",
    "    wb.ActiveSheet.SaveAs(\"F:\\\\correct\\\\\" + file + \".xlsx\", 51) \n",
    "    o.Application.Quit()"
   ]
  },
  {
   "cell_type": "code",
   "execution_count": null,
   "id": "cc3460a3",
   "metadata": {},
   "outputs": [],
   "source": [
    "import zipfile\n",
    "\n",
    "path='F:\\\\Downloads'\n",
    "j=os.listdir('F:\\\\doctor')\n",
    "for t in range(len(j)):\n",
    "    j[t]=j[t].split('.')[0][0:-1]\n",
    "for i in os.listdir('F:\\\\Downloads'):\n",
    "    p=i.split('.')[0]\n",
    "    if not(p in j):\n",
    "        zip_file = zipfile.ZipFile(path+'\\\\'+i)\n",
    "        zip_list = zip_file.namelist() # 得到压缩包里所有文件\n",
    "        count=0\n",
    "        for f in zip_list: \n",
    "            zip_file.extract(f, 'F:\\\\doctor') # 循环解压文件到指定目录\n",
    "            p=m.new_report('F:\\\\doctor')\n",
    "            os.rename(p,'F:\\\\doctor'+'\\\\'+i.strip('.rar')+str(count)+'.'+p.split('.')[1])\n",
    "            count=count+1\n",
    "zip_file.close()\n"
   ]
  }
 ],
 "metadata": {
  "kernelspec": {
   "display_name": "Python 3 (ipykernel)",
   "language": "python",
   "name": "python3"
  },
  "language_info": {
   "codemirror_mode": {
    "name": "ipython",
    "version": 3
   },
   "file_extension": ".py",
   "mimetype": "text/x-python",
   "name": "python",
   "nbconvert_exporter": "python",
   "pygments_lexer": "ipython3",
   "version": "3.9.7"
  }
 },
 "nbformat": 4,
 "nbformat_minor": 5
}
